{
  "nbformat": 4,
  "nbformat_minor": 0,
  "metadata": {
    "colab": {
      "name": "Bengali Corpus Tokenization, Stemming & POS Tagging using BNLTK.ipynb",
      "provenance": [],
      "include_colab_link": true
    },
    "kernelspec": {
      "name": "python3",
      "display_name": "Python 3"
    },
    "language_info": {
      "name": "python"
    }
  },
  "cells": [
    {
      "cell_type": "markdown",
      "metadata": {
        "id": "view-in-github",
        "colab_type": "text"
      },
      "source": [
        "<a href=\"https://colab.research.google.com/github/Rajspeaks/Machine-Learning-approach-to-Bengali-Corpus-Tokenization-Stemming-POS-Tagging-using-BNLTK/blob/main/Code/Bengali_Corpus_Tokenization%2C_Stemming_%26_POS_Tagging_using_BNLTK.ipynb\" target=\"_parent\"><img src=\"https://colab.research.google.com/assets/colab-badge.svg\" alt=\"Open In Colab\"/></a>"
      ]
    },
    {
      "cell_type": "markdown",
      "source": [
        "\n",
        "# **Bengali Corpus Tokenization, Stemming & POS Tagging using BNLTK**\n",
        "\n",
        "References: https://ashwoolford.github.io/bnltk-documentation/\n",
        "\n",
        "References https://github.com/ashwoolford/bnltk \n",
        "\n",
        "BNLTK developed by [Asraf Patoary](https://github.com/ashwoolford"
      ],
      "metadata": {
        "id": "vhMLke85zjpg"
      }
    },
    {
      "cell_type": "code",
      "execution_count": null,
      "metadata": {
        "colab": {
          "base_uri": "https://localhost:8080/"
        },
        "id": "lU-rayxgnTIc",
        "outputId": "9f7d5788-aa4d-4dba-cda4-5fd1e7fbfc76"
      },
      "outputs": [
        {
          "output_type": "stream",
          "name": "stdout",
          "text": [
            "Requirement already satisfied: scipy>=1.1.0 in /usr/local/lib/python3.7/dist-packages (from scikit-learn->sklearn->bnltk) (1.4.1)\n",
            "Requirement already satisfied: joblib>=0.11 in /usr/local/lib/python3.7/dist-packages (from scikit-learn->sklearn->bnltk) (1.1.0)\n",
            "Requirement already satisfied: threadpoolctl>=2.0.0 in /usr/local/lib/python3.7/dist-packages (from scikit-learn->sklearn->bnltk) (3.1.0)\n",
            "Requirement already satisfied: absl-py>=0.4.0 in /usr/local/lib/python3.7/dist-packages (from tensorflow->bnltk) (1.0.0)\n",
            "Requirement already satisfied: six>=1.12.0 in /usr/local/lib/python3.7/dist-packages (from tensorflow->bnltk) (1.15.0)\n",
            "Requirement already satisfied: h5py>=2.9.0 in /usr/local/lib/python3.7/dist-packages (from tensorflow->bnltk) (3.1.0)\n",
            "Requirement already satisfied: tensorflow-io-gcs-filesystem>=0.23.1 in /usr/local/lib/python3.7/dist-packages (from tensorflow->bnltk) (0.24.0)\n",
            "Requirement already satisfied: opt-einsum>=2.3.2 in /usr/local/lib/python3.7/dist-packages (from tensorflow->bnltk) (3.3.0)\n",
            "Requirement already satisfied: keras-preprocessing>=1.1.1 in /usr/local/lib/python3.7/dist-packages (from tensorflow->bnltk) (1.1.2)\n",
            "Requirement already satisfied: libclang>=9.0.1 in /usr/local/lib/python3.7/dist-packages (from tensorflow->bnltk) (13.0.0)\n",
            "Requirement already satisfied: gast>=0.2.1 in /usr/local/lib/python3.7/dist-packages (from tensorflow->bnltk) (0.5.3)\n",
            "Requirement already satisfied: termcolor>=1.1.0 in /usr/local/lib/python3.7/dist-packages (from tensorflow->bnltk) (1.1.0)\n",
            "Requirement already satisfied: astunparse>=1.6.0 in /usr/local/lib/python3.7/dist-packages (from tensorflow->bnltk) (1.6.3)\n",
            "Collecting tf-estimator-nightly==2.8.0.dev2021122109\n",
            "  Downloading tf_estimator_nightly-2.8.0.dev2021122109-py2.py3-none-any.whl (462 kB)\n",
            "\u001b[K     |████████████████████████████████| 462 kB 7.5 MB/s \n",
            "\u001b[?25hRequirement already satisfied: wrapt>=1.11.0 in /usr/local/lib/python3.7/dist-packages (from tensorflow->bnltk) (1.14.0)\n",
            "Requirement already satisfied: google-pasta>=0.1.1 in /usr/local/lib/python3.7/dist-packages (from tensorflow->bnltk) (0.2.0)\n",
            "Requirement already satisfied: tensorboard<2.9,>=2.8 in /usr/local/lib/python3.7/dist-packages (from tensorflow->bnltk) (2.8.0)\n",
            "Requirement already satisfied: typing-extensions>=3.6.6 in /usr/local/lib/python3.7/dist-packages (from tensorflow->bnltk) (3.10.0.2)\n",
            "Requirement already satisfied: grpcio<2.0,>=1.24.3 in /usr/local/lib/python3.7/dist-packages (from tensorflow->bnltk) (1.44.0)\n",
            "Requirement already satisfied: protobuf>=3.9.2 in /usr/local/lib/python3.7/dist-packages (from tensorflow->bnltk) (3.17.3)\n",
            "Requirement already satisfied: flatbuffers>=1.12 in /usr/local/lib/python3.7/dist-packages (from tensorflow->bnltk) (2.0)\n",
            "Requirement already satisfied: setuptools in /usr/local/lib/python3.7/dist-packages (from tensorflow->bnltk) (57.4.0)\n",
            "Requirement already satisfied: wheel<1.0,>=0.23.0 in /usr/local/lib/python3.7/dist-packages (from astunparse>=1.6.0->tensorflow->bnltk) (0.37.1)\n",
            "Requirement already satisfied: cached-property in /usr/local/lib/python3.7/dist-packages (from h5py>=2.9.0->tensorflow->bnltk) (1.5.2)\n",
            "Requirement already satisfied: werkzeug>=0.11.15 in /usr/local/lib/python3.7/dist-packages (from tensorboard<2.9,>=2.8->tensorflow->bnltk) (1.0.1)\n",
            "Requirement already satisfied: google-auth-oauthlib<0.5,>=0.4.1 in /usr/local/lib/python3.7/dist-packages (from tensorboard<2.9,>=2.8->tensorflow->bnltk) (0.4.6)\n",
            "Requirement already satisfied: tensorboard-data-server<0.7.0,>=0.6.0 in /usr/local/lib/python3.7/dist-packages (from tensorboard<2.9,>=2.8->tensorflow->bnltk) (0.6.1)\n",
            "Requirement already satisfied: markdown>=2.6.8 in /usr/local/lib/python3.7/dist-packages (from tensorboard<2.9,>=2.8->tensorflow->bnltk) (3.3.6)\n",
            "Requirement already satisfied: google-auth<3,>=1.6.3 in /usr/local/lib/python3.7/dist-packages (from tensorboard<2.9,>=2.8->tensorflow->bnltk) (1.35.0)\n",
            "Requirement already satisfied: tensorboard-plugin-wit>=1.6.0 in /usr/local/lib/python3.7/dist-packages (from tensorboard<2.9,>=2.8->tensorflow->bnltk) (1.8.1)\n",
            "Requirement already satisfied: cachetools<5.0,>=2.0.0 in /usr/local/lib/python3.7/dist-packages (from google-auth<3,>=1.6.3->tensorboard<2.9,>=2.8->tensorflow->bnltk) (4.2.4)\n",
            "Requirement already satisfied: pyasn1-modules>=0.2.1 in /usr/local/lib/python3.7/dist-packages (from google-auth<3,>=1.6.3->tensorboard<2.9,>=2.8->tensorflow->bnltk) (0.2.8)\n",
            "Requirement already satisfied: rsa<5,>=3.1.4 in /usr/local/lib/python3.7/dist-packages (from google-auth<3,>=1.6.3->tensorboard<2.9,>=2.8->tensorflow->bnltk) (4.8)\n",
            "Requirement already satisfied: requests-oauthlib>=0.7.0 in /usr/local/lib/python3.7/dist-packages (from google-auth-oauthlib<0.5,>=0.4.1->tensorboard<2.9,>=2.8->tensorflow->bnltk) (1.3.1)\n",
            "Requirement already satisfied: importlib-metadata>=4.4 in /usr/local/lib/python3.7/dist-packages (from markdown>=2.6.8->tensorboard<2.9,>=2.8->tensorflow->bnltk) (4.11.3)\n",
            "Requirement already satisfied: zipp>=0.5 in /usr/local/lib/python3.7/dist-packages (from importlib-metadata>=4.4->markdown>=2.6.8->tensorboard<2.9,>=2.8->tensorflow->bnltk) (3.7.0)\n",
            "Requirement already satisfied: pyasn1<0.5.0,>=0.4.6 in /usr/local/lib/python3.7/dist-packages (from pyasn1-modules>=0.2.1->google-auth<3,>=1.6.3->tensorboard<2.9,>=2.8->tensorflow->bnltk) (0.4.8)\n",
            "Requirement already satisfied: oauthlib>=3.0.0 in /usr/local/lib/python3.7/dist-packages (from requests-oauthlib>=0.7.0->google-auth-oauthlib<0.5,>=0.4.1->tensorboard<2.9,>=2.8->tensorflow->bnltk) (3.2.0)\n",
            "Installing collected packages: tf-estimator-nightly, bnltk\n",
            "Successfully installed bnltk-0.7.6 tf-estimator-nightly-2.8.0.dev2021122109\n"
          ]
        }
      ],
      "source": [
        "pip install bnltk"
      ]
    },
    {
      "cell_type": "code",
      "source": [
        "from bnltk.tokenize import Tokenizers  \n",
        "t = Tokenizers()  \n",
        "print(t.bn_word_tokenizer('আমার নাম রাজদীপ।')) "
      ],
      "metadata": {
        "colab": {
          "base_uri": "https://localhost:8080/"
        },
        "id": "tn_39ZXcnUJd",
        "outputId": "ed928c46-6e98-4ed2-8d02-755253f16886"
      },
      "execution_count": null,
      "outputs": [
        {
          "output_type": "stream",
          "name": "stdout",
          "text": [
            "['আমার', 'নাম', 'রাজদীপ']\n"
          ]
        }
      ]
    },
    {
      "cell_type": "code",
      "source": [
        "from bnltk.tokenize import Tokenizers  \n",
        "t = Tokenizers()  \n",
        "print(t.bn_word_tokenizer('বাংলা সাহিত্য জগতে সর্বশ্রেষ্ঠ বলে যদি কেউ থেকে থাকেন তাহলে সেটা অবশ্যই আমাদের সকলের প্রিয় রবীন্দ্রনাথ ঠাকুর । নোবেল পুরষ্কার প্রাপ্ত প্রথম বাঙালি, রবীন্দ্রনাথ ঠাকুর ২ হাজারেরও বেশি গান রচনা করেছিলেন। তাঁর লেখা অসাধারণ সব কবিতা ও গান, আজও প্রত্যেকটা বাঙালীর সমানভাবে মন কাঁড়ে । রবীন্দ্রনাথ ঠাকুরের রচনা “গীতাঞ্জলি” এবং “জীবন স্মৃতি” আজও বাঙালির মনে চির স্মরণীয়।')) "
      ],
      "metadata": {
        "colab": {
          "base_uri": "https://localhost:8080/"
        },
        "outputId": "6930f180-5e1e-445d-ea58-114d93b65081",
        "id": "2OKaG2kZx-S6"
      },
      "execution_count": null,
      "outputs": [
        {
          "output_type": "stream",
          "name": "stdout",
          "text": [
            "['বাংলা', 'সাহিত্য', 'জগতে', 'সর্বশ্রেষ্ঠ', 'বলে', 'যদি', 'কেউ', 'থেকে', 'থাকেন', 'তাহলে', 'সেটা', 'অবশ্যই', 'আমাদের', 'সকলের', 'প্রিয়', 'রবীন্দ্রনাথ', 'ঠাকুর', 'নোবেল', 'পুরষ্কার', 'প্রাপ্ত', 'প্রথম', 'বাঙালি', 'রবীন্দ্রনাথ', 'ঠাকুর', '২', 'হাজারেরও', 'বেশি', 'গান', 'রচনা', 'করেছিলেন', 'তাঁর', 'লেখা', 'অসাধারণ', 'সব', 'কবিতা', 'ও', 'গান', 'আজও', 'প্রত্যেকটা', 'বাঙালীর', 'সমানভাবে', 'মন', 'কাঁড়ে', 'রবীন্দ্রনাথ', 'ঠাকুরের', 'রচনা', '“গীতাঞ্জলি”', 'এবং', '“জীবন', 'স্মৃতি”', 'আজও', 'বাঙালির', 'মনে', 'চির', 'স্মরণীয়']\n"
          ]
        }
      ]
    },
    {
      "cell_type": "code",
      "source": [
        "from bnltk.stemmer import BanglaStemmer  \n",
        "bn_stemmer = BanglaStemmer()  \n",
        "print(bn_stemmer.stem('রাজদীপ।'))"
      ],
      "metadata": {
        "colab": {
          "base_uri": "https://localhost:8080/"
        },
        "id": "gTU1ZlANvsZ7",
        "outputId": "3b1f35e8-9cff-4a6f-d539-12a4f8997c22"
      },
      "execution_count": null,
      "outputs": [
        {
          "output_type": "stream",
          "name": "stdout",
          "text": [
            "রাজদীপ।\n"
          ]
        }
      ]
    },
    {
      "cell_type": "code",
      "source": [
        "from bnltk.stemmer import BanglaStemmer  \n",
        "bn_stemmer = BanglaStemmer()  \n",
        "print(bn_stemmer.stem('খেয়েছিলো'))"
      ],
      "metadata": {
        "colab": {
          "base_uri": "https://localhost:8080/"
        },
        "id": "CqeqpC8Pz8Fu",
        "outputId": "7620f321-eaca-4a04-fa91-7d628bffd2f1"
      },
      "execution_count": null,
      "outputs": [
        {
          "output_type": "stream",
          "name": "stdout",
          "text": [
            "খেয়েছিলো\n"
          ]
        }
      ]
    },
    {
      "cell_type": "code",
      "source": [
        "from bnltk.bnltk_downloads import DataFiles  \n",
        "DataFiles().download()  "
      ],
      "metadata": {
        "colab": {
          "base_uri": "https://localhost:8080/"
        },
        "id": "Gt4-jI1TwFQK",
        "outputId": "ec77569a-faa3-4df2-bc54-bb28a6fc137e"
      },
      "execution_count": null,
      "outputs": [
        {
          "output_type": "stream",
          "name": "stdout",
          "text": [
            "Downloading....../bn_tagged_mod.txt\n",
            "[==================================================]\n",
            "Downloading....../keras_mlp_bangla.h5\n",
            "[==================================================]Done!\n"
          ]
        }
      ]
    },
    {
      "cell_type": "code",
      "source": [
        "from bnltk.pos_tagger import PosTagger  \n",
        "p_tagger = PosTagger()  \n",
        "p_tagger.loader()  \n",
        "sentences = 'আমার নাম রাজদীপ।' \n",
        "print(p_tagger.tagger(sentences))"
      ],
      "metadata": {
        "colab": {
          "base_uri": "https://localhost:8080/"
        },
        "id": "TOJAnCB_xVnH",
        "outputId": "455d98a6-1b63-4e3d-adc3-4d471ad76121"
      },
      "execution_count": null,
      "outputs": [
        {
          "output_type": "stream",
          "name": "stdout",
          "text": [
            "[('আমার', 'PPR'), ('নাম', 'NC'), ('রাজদীপ', 'NC'), ('।', 'PU\\n')]\n"
          ]
        }
      ]
    },
    {
      "cell_type": "code",
      "source": [
        "from bnltk.pos_tagger import PosTagger  \n",
        "p_tagger = PosTagger()  \n",
        "p_tagger.loader()  \n",
        "sentences = 'শিশুকাল থেকেই অন্যান্য সন্তানদের মতাে রবীন্দ্রনাথ অভিজ্ঞ পরিচারকদের দ্বারা লালিত – পালিত হন । একজন জ্যেষ্ঠ ভ্রাতা এবং কয়েকজন গৃহশিক্ষকের কাছে তার প্রাথমিক বিদ্যালাভ শুরু হয় । বিভিন্ন স্কুলেও পড়েন কিছুদিন । কিন্তু স্কুলের বাঁধাধরা নিয়ম ও আবহাওয়া তার মনঃপুত না হওয়ায় বাড়িতেই পড়াশুনার ব্যবস্থা করা হয় । বাড়িতেই বিশ্ববিদ্যার সকল দুয়ার তার সম্মুখে উন্মুক্ত হয়ে গেল । শৈশবে রবীন্দ্রনাথ কলকাতার ওরিয়েন্টাল সেমিনারি, নর্ম্যাল স্কুল, বেঙ্গল অ্যাকাডেমি এবং সেন্ট জেভিয়ার্স কলেজিয়েট স্কুলে কিছুদিন করে পড়াশোনা করেছিলেন।কিন্তু বিদ্যালয়-শিক্ষায় অনাগ্রহী হওয়ায় বাড়িতেই গৃহশিক্ষক রেখে তার শিক্ষার ব্যবস্থা করা হয়েছিল। ছেলেবেলায় জোড়াসাঁকোর বাড়িতে অথবা বোলপুর ও পানিহাটির বাগানবাড়িতে প্রাকৃতিক পরিবেশের মধ্যে ঘুরে বেড়াতে বেশি স্বচ্ছন্দবোধ করতেন রবীন্দ্রনাথ।' \n",
        "print(p_tagger.tagger(sentences))"
      ],
      "metadata": {
        "colab": {
          "base_uri": "https://localhost:8080/"
        },
        "outputId": "763f8f18-5385-46eb-c867-e128929bba8c",
        "id": "4VJp6DdAyTRX"
      },
      "execution_count": null,
      "outputs": [
        {
          "output_type": "stream",
          "name": "stdout",
          "text": [
            "[('শিশুকাল', 'NC'), ('থেকেই', 'VM'), ('অন্যান্য', 'JQ'), ('সন্তানদের', 'NC'), ('মতাে', 'NC'), ('রবীন্দ্রনাথ', 'NP'), ('অভিজ্ঞ', 'NC'), ('পরিচারকদের', 'NC'), ('দ্বারা', 'PP'), ('লালিত', 'JJ'), ('–', 'NC'), ('পালিত', 'JJ'), ('হন', 'VM'), ('।', 'RDX'), ('একজন', 'JQ'), ('জ্যেষ্ঠ', 'JJ'), ('ভ্রাতা', 'NC'), ('এবং', 'CCD'), ('কয়েকজন', 'NC'), ('গৃহশিক্ষকের', 'NC'), ('কাছে', 'CCD'), ('তার', 'PPR'), ('প্রাথমিক', 'JJ'), ('বিদ্যালাভ', 'NC'), ('শুরু', 'NC'), ('হয়', 'VM'), ('।', 'RDX'), ('বিভিন্ন', 'JJ'), ('স্কুলেও', 'NC'), ('পড়েন', 'NC'), ('কিছুদিন', 'NC'), ('।', 'RDX'), ('কিন্তু', 'CCD'), ('স্কুলের', 'NC'), ('বাঁধাধরা', 'NV'), ('নিয়ম', 'NC'), ('ও', 'CCD'), ('আবহাওয়া', 'NC'), ('তার', 'PPR'), ('মনঃপুত', 'NC'), ('না', 'CX'), ('হওয়ায়', 'VM'), ('বাড়িতেই', 'NC'), ('পড়াশুনার', 'NC'), ('ব্যবস্থা', 'NC'), ('করা', 'NV'), ('হয়', 'VM'), ('।', 'RDX'), ('বাড়িতেই', 'NC'), ('বিশ্ববিদ্যার', 'NC'), ('সকল', 'PPR'), ('দুয়ার', 'NC'), ('তার', 'PPR'), ('সম্মুখে', 'NC'), ('উন্মুক্ত', 'JJ'), ('হয়ে', 'VM'), ('গেল', 'VM'), ('।', 'RDX'), ('শৈশবে', 'NC'), ('রবীন্দ্রনাথ', 'NP'), ('কলকাতার', 'NP'), ('ওরিয়েন্টাল', 'NC'), ('সেমিনারি', 'NC'), (',', 'PU'), ('নর্ম্যাল', 'NP'), ('স্কুল', 'NC'), (',', 'PU'), ('বেঙ্গল', 'NC'), ('অ্যাকাডেমি', 'NC'), ('এবং', 'CCD'), ('সেন্ট', 'NC'), ('জেভিয়ার্স', 'NC'), ('কলেজিয়েট', 'NC'), ('স্কুলে', 'NC'), ('কিছুদিন', 'NC'), ('করে', 'VM'), ('পড়াশোনা', 'NC'), ('করেছিলেন।কিন্তু', 'CCD'), ('বিদ্যালয়-শিক্ষায়', 'NC'), ('অনাগ্রহী', 'JJ'), ('হওয়ায়', 'CCD'), ('বাড়িতেই', 'NC'), ('গৃহশিক্ষক', 'NC'), ('রেখে', 'VM'), ('তার', 'PPR'), ('শিক্ষার', 'NC'), ('ব্যবস্থা', 'NC'), ('করা', 'NV'), ('হয়েছিল', 'VM'), ('।', 'RDX'), ('ছেলেবেলায়', 'NC'), ('জোড়াসাঁকোর', 'NC'), ('বাড়িতে', 'NC'), ('অথবা', 'CCD'), ('বোলপুর', 'NC'), ('ও', 'CCD'), ('পানিহাটির', 'NC'), ('বাগানবাড়িতে', 'NC'), ('প্রাকৃতিক', 'JJ'), ('পরিবেশের', 'NC'), ('মধ্যে', 'NST'), ('ঘুরে', 'VM'), ('বেড়াতে', 'NC'), ('বেশি', 'JJ'), ('স্বচ্ছন্দবোধ', 'NC'), ('করতেন', 'VM'), ('রবীন্দ্রনাথ', 'NP'), ('।', 'RDX')]\n"
          ]
        }
      ]
    },
    {
      "cell_type": "code",
      "source": [
        "from bnltk.pos_tagger import PosTagger  \n",
        "p_tagger = PosTagger()  \n",
        "p_tagger.loader()  \n",
        "sentences = 'ভারতী পত্রিকায় ১৮৭৭ সালে, মাত্র ১৬ বছর বয়সে রবীন্দ্রনাথ কয়েকটা গুরুত্বপূর্ণ রচনা প্রকাশ করেন। সেগুলো ছিলো ভানুসিংহ ঠাকুরের পদাবলী, মেঘনাদবধ কাব্যের সমালোচনা আর ভিখারিণী ও করুণা নামে দুটো সুন্দর ছোটগল্প। এগুলোর মধ্যে ভানুসিংহ ঠাকুরের পদাবলী সবচেয়ে জনপ্রিয়তা পায়। এরপর ১৮৭৮ সালে প্রকাশিত হয় রবীন্দ্রনাথের প্রথম কাব্যগ্রন্থ “কবিকাহিনী”। এছাড়াও পরে তিনি রচনা করেছিলেন “সন্ধ্যাসংগীত” নামক আরেকটি কাব্যগ্রন্থ। “নির্ঝরের স্বপ্নভঙ্গ” নামে লেখা তাঁর সেই বিখ্যাত কবিতা এই কাব্যগ্রন্থেরই অন্তর্গত ছিলো। ইংল্যান্ড থেকে দেশে ফিরে আশার পর, অবশেষে ১৮৮৩ সালে ৯ই ডিসেম্বর তারিখে রবীন্দ্রনাথের বিয়ে হয় বেণীমাধব রায়চৌধুরী নামে ঠাকুরবাড়ির এক অধস্তন কর্মচারীর কন্যা ভবতারিণীর সঙ্গে । বিয়ের সময় ভবতারিণীর পুণরায় নামকরণ করা হয় এবং তাঁর নাম পাল্টে রাখা হয় মৃণালিনী দেবী । ১৯০১ খ্রীষ্টাব্দে রবীন্দ্রনাথ শান্তিনিকেতনে একটি আদর্শ বিদ্যালয় স্থাপন করেন । দেশী – বিদেশী বহু জ্ঞানী – গুণী ব্যক্তিত্ব এখানে শিক্ষকতা করতেন । আজ তা বিশ্বভারতী বিশ্ববিদ্যালয় রূপে খ্যাত । রবীন্দ্রনাথ তাঁর জমিদারী পরিচালনার জন্য দীর্ঘদিন বাংলাদেশের কুষ্টিয়ার শিলাইদহে কাটিয়েছেন । তাঁর সােনার তরী ‘ কাব্যগ্রন্থ এবং বহু ছােটগল্পের রচনার পটভূমি এই শিলাইদহ । ১৯১৩ খ্রীষ্টাব্দে রবীন্দ্রনাথ তার গীতাঞ্জলি কাব্যগ্রন্থের জন্য বিশ্বের সর্বশ্রেষ্ঠ পুরস্কার নােবেল পুরস্কার লাভ করেন । তিনিই নােবেল পুরস্কারপ্রাপ্ত প্রথম ভারতীয় এবং প্রথম এশিয়াবাসী । জীবনের শেষ চার বছর ছিল তার ধারাবাহিক শারীরিক অসুস্থতার সময়। এই সময়ের মধ্যে দুইবার অত্যন্ত অসুস্থ অবস্থায় শয্যাশায়ী থাকতে হয়েছিল তাকে। ১৯৩৭ সালে একবার অচৈতন্য হয়ে গিয়ে আশঙ্কাজনক অবস্থা হয়েছিল কবির। সেবার সেরে উঠলেও ১৯৪০ সালে অসুস্থ হওয়ার পর আর তিনি সেরে উঠতে পারেননি। এই সময়পর্বে রচিত রবীন্দ্রনাথের কবিতাগুলি ছিল মৃত্যুচেতনাকে কেন্দ্র করে সৃজিত কিছু অবিস্মরণীয় পংক্তিমালা। মৃত্যুর সাত দিন আগে পর্যন্ত রবীন্দ্রনাথ সৃষ্টিশীল ছিলেন।দীর্ঘ রোগভোগের পর ১৯৪১ সালে জোড়াসাঁকোর বাসভবনেই শেষ নিঃশ্বাস ত্যাগ করেন রবীন্দ্রনাথ ঠাকুর।[১৯৪১ খ্রীষ্টাব্দের ৭ ই আগষ্ট বিশ্বকবি মহামনীষী রবীন্দ্রনাথ ঠাকুর কলকাতা , জোড়াসাঁকোয় মহাপ্রয়াণে যাত্রা করেন । ২৫ শে বৈশাখের সূর্য ( রবি ) ২২ শে শ্রাবণের সন্ধ্যায় অস্ত যায়। '  \n",
        "print(p_tagger.tagger(sentences))"
      ],
      "metadata": {
        "colab": {
          "base_uri": "https://localhost:8080/"
        },
        "outputId": "3d04da99-47da-4c4a-d0ec-e7de52352ee5",
        "id": "yQSQAsvty0hE"
      },
      "execution_count": null,
      "outputs": [
        {
          "output_type": "stream",
          "name": "stdout",
          "text": [
            "[('ভারতী', 'CCD'), ('পত্রিকায়', 'NC'), ('১৮৭৭', 'CCD'), ('সালে', 'NC'), (',', 'PU'), ('মাত্র', 'CCD'), ('১৬', 'CCD'), ('বছর', 'NC'), ('বয়সে', 'CCD'), ('রবীন্দ্রনাথ', 'RDX'), ('কয়েকটা', 'CCD'), ('গুরুত্বপূর্ণ', 'NC'), ('রচনা', 'NC'), ('প্রকাশ', 'NC'), ('করেন', 'VM'), ('।', 'RDX'), ('সেগুলো', 'PPR'), ('ছিলো', 'VM'), ('ভানুসিংহ', 'NC'), ('ঠাকুরের', 'NC'), ('পদাবলী', 'NC'), (',', 'PU'), ('মেঘনাদবধ', 'NC'), ('কাব্যের', 'NC'), ('সমালোচনা', 'NC'), ('আর', 'CCD'), ('ভিখারিণী', 'NC'), ('ও', 'CCD'), ('করুণা', 'CCD'), ('নামে', 'NC'), ('দুটো', 'JQ'), ('সুন্দর', 'CCD'), ('ছোটগল্প', 'NC'), ('।', 'RDX'), ('এগুলোর', 'NC'), ('মধ্যে', 'CCD'), ('ভানুসিংহ', 'NC'), ('ঠাকুরের', 'NC'), ('পদাবলী', 'NC'), ('সবচেয়ে', 'CCD'), ('জনপ্রিয়তা', 'NC'), ('পায়', 'CCD'), ('।', 'RDX'), ('এরপর', 'CCD'), ('১৮৭৮', 'CCD'), ('সালে', 'NC'), ('প্রকাশিত', 'CCD'), ('হয়', 'CCD'), ('রবীন্দ্রনাথের', 'CCD'), ('প্রথম', 'JQ'), ('কাব্যগ্রন্থ', 'NC'), ('“কবিকাহিনী”', 'CCD'), ('।', 'RDX'), ('এছাড়াও', 'CCD'), ('পরে', 'CCD'), ('তিনি', 'PPR'), ('রচনা', 'NC'), ('করেছিলেন', 'VM'), ('“সন্ধ্যাসংগীত”', 'CCD'), ('নামক', 'CCD'), ('আরেকটি', 'NC'), ('কাব্যগ্রন্থ', 'NC'), ('।', 'RDX'), ('“নির্ঝরের', 'NC'), ('স্বপ্নভঙ্গ”', 'CCD'), ('নামে', 'NC'), ('লেখা', 'NC'), ('তাঁর', 'PPR'), ('সেই', 'DAB'), ('বিখ্যাত', 'CCD'), ('কবিতা', 'NC'), ('এই', 'DAB'), ('কাব্যগ্রন্থেরই', 'NC'), ('অন্তর্গত', 'CCD'), ('ছিলো', 'VM'), ('।', 'RDX'), ('ইংল্যান্ড', 'CCD'), ('থেকে', 'CCD'), ('দেশে', 'NC'), ('ফিরে', 'VM'), ('আশার', 'NC'), ('পর', 'CCD'), (',', 'PU'), ('অবশেষে', 'CCD'), ('১৮৮৩', 'CCD'), ('সালে', 'NC'), ('৯ই', 'CCD'), ('ডিসেম্বর', 'NC'), ('তারিখে', 'NC'), ('রবীন্দ্রনাথের', 'CCD'), ('বিয়ে', 'CCD'), ('হয়', 'CCD'), ('বেণীমাধব', 'CCD'), ('রায়চৌধুরী', 'NC'), ('নামে', 'NC'), ('ঠাকুরবাড়ির', 'NC'), ('এক', 'JQ'), ('অধস্তন', 'NC'), ('কর্মচারীর', 'NC'), ('কন্যা', 'NC'), ('ভবতারিণীর', 'NC'), ('সঙ্গে', 'CCD'), ('।', 'RDX'), ('বিয়ের', 'NC'), ('সময়', 'CCD'), ('ভবতারিণীর', 'NC'), ('পুণরায়', 'CCD'), ('নামকরণ', 'NC'), ('করা', 'NV'), ('হয়', 'CCD'), ('এবং', 'CCD'), ('তাঁর', 'PPR'), ('নাম', 'NC'), ('পাল্টে', 'VM'), ('রাখা', 'CCD'), ('হয়', 'CCD'), ('মৃণালিনী', 'NC'), ('দেবী', 'NC'), ('।', 'RDX'), ('১৯০১', 'CCD'), ('খ্রীষ্টাব্দে', 'NC'), ('রবীন্দ্রনাথ', 'NP'), ('শান্তিনিকেতনে', 'RDX'), ('একটি', 'JQ'), ('আদর্শ', 'NC'), ('বিদ্যালয়', 'CCD'), ('স্থাপন', 'NC'), ('করেন', 'VM'), ('।', 'RDX'), ('দেশী', 'NC'), ('–', 'CCD'), ('বিদেশী', 'NC'), ('বহু', 'CCD'), ('জ্ঞানী', 'NC'), ('–', 'CCD'), ('গুণী', 'NC'), ('ব্যক্তিত্ব', 'NC'), ('এখানে', 'CCD'), ('শিক্ষকতা', 'NC'), ('করতেন', 'VM'), ('।', 'RDX'), ('আজ', 'CCD'), ('তা', 'PPR'), ('বিশ্বভারতী', 'CCD'), ('বিশ্ববিদ্যালয়', 'CCD'), ('রূপে', 'NC'), ('খ্যাত', 'NC'), ('।', 'RDX'), ('রবীন্দ্রনাথ', 'CCD'), ('তাঁর', 'PPR'), ('জমিদারী', 'NC'), ('পরিচালনার', 'NC'), ('জন্য', 'CCD'), ('দীর্ঘদিন', 'NC'), ('বাংলাদেশের', 'CCD'), ('কুষ্টিয়ার', 'CCD'), ('শিলাইদহে', 'NC'), ('কাটিয়েছেন', 'VM'), ('।', 'CCD'), ('তাঁর', 'PPR'), ('সােনার', 'NC'), ('তরী', 'NC'), ('‘', 'CCD'), ('কাব্যগ্রন্থ', 'NC'), ('এবং', 'CCD'), ('বহু', 'CCD'), ('ছােটগল্পের', 'NC'), ('রচনার', 'NC'), ('পটভূমি', 'NC'), ('এই', 'DAB'), ('শিলাইদহ', 'NC'), ('।', 'RDX'), ('১৯১৩', 'CCD'), ('খ্রীষ্টাব্দে', 'NC'), ('রবীন্দ্রনাথ', 'NP'), ('তার', 'PPR'), ('গীতাঞ্জলি', 'NC'), ('কাব্যগ্রন্থের', 'NC'), ('জন্য', 'CCD'), ('বিশ্বের', 'NC'), ('সর্বশ্রেষ্ঠ', 'NC'), ('পুরস্কার', 'NC'), ('নােবেল', 'NC'), ('পুরস্কার', 'NC'), ('লাভ', 'NC'), ('করেন', 'VM'), ('।', 'RDX'), ('তিনিই', 'CCD'), ('নােবেল', 'NC'), ('পুরস্কারপ্রাপ্ত', 'NC'), ('প্রথম', 'CCD'), ('ভারতীয়', 'NC'), ('এবং', 'CCD'), ('প্রথম', 'JQ'), ('এশিয়াবাসী', 'NC'), ('।', 'RDX'), ('জীবনের', 'NC'), ('শেষ', 'NC'), ('চার', 'JQ'), ('বছর', 'NC'), ('ছিল', 'VM'), ('তার', 'PPR'), ('ধারাবাহিক', 'NC'), ('শারীরিক', 'CCD'), ('অসুস্থতার', 'NC'), ('সময়', 'CCD'), ('।', 'RDX'), ('এই', 'DAB'), ('সময়ের', 'NC'), ('মধ্যে', 'CCD'), ('দুইবার', 'CCD'), ('অত্যন্ত', 'CCD'), ('অসুস্থ', 'CCD'), ('অবস্থায়', 'CCD'), ('শয্যাশায়ী', 'NC'), ('থাকতে', 'VM'), ('হয়েছিল', 'VM'), ('তাকে', 'PPR'), ('।', 'RDX'), ('১৯৩৭', 'CCD'), ('সালে', 'NC'), ('একবার', 'CCD'), ('অচৈতন্য', 'CCD'), ('হয়ে', 'CCD'), ('গিয়ে', 'CCD'), ('আশঙ্কাজনক', 'CCD'), ('অবস্থা', 'NC'), ('হয়েছিল', 'VM'), ('কবির', 'NC'), ('।', 'RDX'), ('সেবার', 'NC'), ('সেরে', 'CCD'), ('উঠলেও', 'CCD'), ('১৯৪০', 'CCD'), ('সালে', 'NC'), ('অসুস্থ', 'CCD'), ('হওয়ার', 'CCD'), ('পর', 'CCD'), ('আর', 'CCD'), ('তিনি', 'PPR'), ('সেরে', 'CCD'), ('উঠতে', 'VM'), ('পারেননি', 'VM'), ('।', 'RDX'), ('এই', 'DAB'), ('সময়পর্বে', 'NC'), ('রচিত', 'CCD'), ('রবীন্দ্রনাথের', 'CCD'), ('কবিতাগুলি', 'NC'), ('ছিল', 'VM'), ('মৃত্যুচেতনাকে', 'NC'), ('কেন্দ্র', 'NC'), ('করে', 'VM'), ('সৃজিত', 'CCD'), ('কিছু', 'JQ'), ('অবিস্মরণীয়', 'CCD'), ('পংক্তিমালা', 'NC'), ('।', 'RDX'), ('মৃত্যুর', 'NC'), ('সাত', 'CCD'), ('দিন', 'NC'), ('আগে', 'CCD'), ('পর্যন্ত', 'CCD'), ('রবীন্দ্রনাথ', 'RDX'), ('সৃষ্টিশীল', 'CCD'), ('ছিলেন।দীর্ঘ', 'CCD'), ('রোগভোগের', 'NC'), ('পর', 'CCD'), ('১৯৪১', 'CCD'), ('সালে', 'NC'), ('জোড়াসাঁকোর', 'CCD'), ('বাসভবনেই', 'CCD'), ('শেষ', 'NC'), ('নিঃশ্বাস', 'NC'), ('ত্যাগ', 'NC'), ('করেন', 'VM'), ('রবীন্দ্রনাথ', 'NP'), ('ঠাকুর।[১৯৪১', 'CCD'), ('খ্রীষ্টাব্দের', 'NC'), ('৭', 'CCD'), ('ই', 'CCD'), ('আগষ্ট', 'CCD'), ('বিশ্বকবি', 'NC'), ('মহামনীষী', 'NC'), ('রবীন্দ্রনাথ', 'NP'), ('ঠাকুর', 'NC'), ('কলকাতা', 'NC'), (',', 'PU'), ('জোড়াসাঁকোয়', 'CCD'), ('মহাপ্রয়াণে', 'NC'), ('যাত্রা', 'NC'), ('করেন', 'VM'), ('।', 'RDX'), ('২৫', 'CCD'), ('শে', 'CCD'), ('বৈশাখের', 'NC'), ('সূর্য', 'NC'), ('(', 'RDX'), ('রবি', 'RDX'), (')', 'RDX'), ('২২', 'CCD'), ('শে', 'CCD'), ('শ্রাবণের', 'NC'), ('সন্ধ্যায়', 'NC'), ('অস্ত', 'CCD'), ('যায়', 'CCD'), ('।', 'RDX')]\n"
          ]
        }
      ]
    },
    {
      "cell_type": "markdown",
      "source": [
        ""
      ],
      "metadata": {
        "id": "5kbZd8MNyrcv"
      }
    }
  ]
}